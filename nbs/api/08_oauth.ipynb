{
 "cells": [
  {
   "cell_type": "code",
   "execution_count": null,
   "id": "6f411b65",
   "metadata": {},
   "outputs": [],
   "source": [
    "#| default_exp oauth"
   ]
  },
  {
   "cell_type": "markdown",
   "id": "0865b3d0",
   "metadata": {},
   "source": [
    "# OAuth\n",
    "> Basic scaffolding for handling OAuth\n",
    "\n",
    "- eval: false\n",
    "- skip_exec: true"
   ]
  },
  {
   "cell_type": "markdown",
   "id": "507cd009",
   "metadata": {},
   "source": [
    "This is not yet thoroughly tested. See the [docs page](https://docs.fastht.ml/explains/oauth.html) for an explanation of how to use this."
   ]
  },
  {
   "cell_type": "code",
   "execution_count": null,
   "id": "793722f2",
   "metadata": {},
   "outputs": [],
   "source": [
    "#| export\n",
    "from fasthtml.common import *\n",
    "from oauthlib.oauth2 import WebApplicationClient\n",
    "from urllib.parse import urlparse, urlencode, parse_qs, quote, unquote\n",
    "import secrets, httpx"
   ]
  },
  {
   "cell_type": "code",
   "execution_count": null,
   "id": "526a5ac8",
   "metadata": {},
   "outputs": [],
   "source": [
    "from IPython.display import Markdown"
   ]
  },
  {
   "cell_type": "code",
   "execution_count": null,
   "id": "0a078133",
   "metadata": {},
   "outputs": [],
   "source": [
    "#| export\n",
    "class _AppClient(WebApplicationClient):\n",
    "    def __init__(self, client_id, client_secret, code=None, scope=None, **kwargs):\n",
    "        super().__init__(client_id, code=code, scope=scope, **kwargs)\n",
    "        self.client_secret = client_secret"
   ]
  },
  {
   "cell_type": "code",
   "execution_count": null,
   "id": "d82ea17d",
   "metadata": {},
   "outputs": [],
   "source": [
    "#| export\n",
    "class GoogleAppClient(_AppClient):\n",
    "    \"A `WebApplicationClient` for Google oauth2\"\n",
    "    base_url = \"https://accounts.google.com/o/oauth2/v2/auth\"\n",
    "    token_url = \"https://www.googleapis.com/oauth2/v4/token\"\n",
    "    info_url = \"https://www.googleapis.com/oauth2/v3/userinfo\"\n",
    "    id_key = 'sub'\n",
    "    \n",
    "    def __init__(self, client_id, client_secret, code=None, scope=None, **kwargs):\n",
    "        scope_pre = \"https://www.googleapis.com/auth/userinfo\"\n",
    "        if not scope: scope=[\"openid\", f\"{scope_pre}.email\", f\"{scope_pre}.profile\"]\n",
    "        super().__init__(client_id, client_secret, code=code, scope=scope, **kwargs)\n",
    "    \n",
    "    @classmethod\n",
    "    def from_file(cls, fname, code=None, scope=None, **kwargs):\n",
    "        cred = Path(fname).read_json()['web']\n",
    "        return cls(cred['client_id'], client_secret=cred['client_secret'], code=code, scope=scope, **kwargs)"
   ]
  },
  {
   "cell_type": "code",
   "execution_count": null,
   "id": "371ab1f7",
   "metadata": {},
   "outputs": [],
   "source": [
    "#| export\n",
    "class GitHubAppClient(_AppClient):\n",
    "    \"A `WebApplicationClient` for GitHub oauth2\"\n",
    "    base_url = \"https://github.com/login/oauth/authorize\"\n",
    "    token_url = \"https://github.com/login/oauth/access_token\"\n",
    "    info_url = \"https://api.github.com/user\"\n",
    "    id_key = 'id'\n",
    "\n",
    "    def __init__(self, client_id, client_secret, code=None, scope=None, **kwargs):\n",
    "        super().__init__(client_id, client_secret, code=code, scope=scope, **kwargs)"
   ]
  },
  {
   "cell_type": "code",
   "execution_count": null,
   "id": "0e79f996",
   "metadata": {},
   "outputs": [],
   "source": [
    "#| export\n",
    "class HuggingFaceClient(_AppClient):\n",
    "    \"A `WebApplicationClient` for HuggingFace oauth2\"\n",
    "\n",
    "    base_url = \"https://huggingface.co/oauth/authorize\"\n",
    "    token_url = \"https://huggingface.co/oauth/token\"\n",
    "    info_url = \"https://huggingface.co/oauth/userinfo\"\n",
    "    id_key = 'sub'\n",
    "    \n",
    "    def __init__(self, client_id, client_secret, code=None, scope=None, state=None, **kwargs):\n",
    "        if not scope: scope=[\"openid\",\"profile\"]\n",
    "        if not state: state=secrets.token_urlsafe(16)\n",
    "        super().__init__(client_id, client_secret, code=code, scope=scope, state=state, **kwargs)"
   ]
  },
  {
   "cell_type": "code",
   "execution_count": null,
   "id": "3f037bd6",
   "metadata": {},
   "outputs": [],
   "source": [
    "#| export\n",
    "class DiscordAppClient(_AppClient):\n",
    "    \"A `WebApplicationClient` for Discord oauth2\"\n",
    "    base_url = \"https://discord.com/oauth2/authorize\"\n",
    "    token_url = \"https://discord.com/api/oauth2/token\"\n",
    "    revoke_url = \"https://discord.com/api/oauth2/token/revoke\"\n",
    "    id_key = 'id'\n",
    "\n",
    "    def __init__(self, client_id, client_secret, is_user=False, perms=0, scope=None, **kwargs):\n",
    "        if not scope: scope=\"applications.commands applications.commands.permissions.update identify\"\n",
    "        self.integration_type = 1 if is_user else 0\n",
    "        self.perms = perms\n",
    "        super().__init__(client_id, client_secret, scope=scope, **kwargs)\n",
    "\n",
    "    def login_link(self):\n",
    "        d = dict(response_type='code', client_id=self.client_id,\n",
    "                 integration_type=self.integration_type, scope=self.scope) #, permissions=self.perms, prompt='consent')\n",
    "        return f'{self.base_url}?' + urlencode(d)\n",
    "\n",
    "    def parse_response(self, code):\n",
    "        headers = {'Content-Type': 'application/x-www-form-urlencoded'}\n",
    "        data = dict(grant_type='authorization_code', code=code)#, redirect_uri=self.redirect_uri)\n",
    "        r = httpx.post(self.token_url, data=data, headers=headers, auth=(self.client_id, self.client_secret))\n",
    "        r.raise_for_status()\n",
    "        self.parse_request_body_response(r.text)"
   ]
  },
  {
   "cell_type": "code",
   "execution_count": null,
   "id": "109bc501",
   "metadata": {},
   "outputs": [],
   "source": [
    "cli = GoogleAppClient.from_file('/Users/jhoward/git/_nbs/oauth-test/client_secret.json')"
   ]
  },
  {
   "cell_type": "code",
   "execution_count": null,
   "id": "990d2310",
   "metadata": {},
   "outputs": [],
   "source": [
    "#| export\n",
    "@patch\n",
    "def login_link(self:WebApplicationClient, redirect_uri, scope=None, state=None):\n",
    "    \"Get a login link for this client\"\n",
    "    if not scope: scope=self.scope\n",
    "    if not state: state=getattr(self, 'state', None)\n",
    "    return self.prepare_request_uri(self.base_url, redirect_uri, scope, state=state)"
   ]
  },
  {
   "cell_type": "markdown",
   "id": "42ee9991",
   "metadata": {},
   "source": [
    "Generating a login link that sends the user to the OAuth provider is done with `client.login_link()`.\n",
    "\n",
    "It can sometimes be useful to pass state to the OAuth provider, so that when the user returns you can pick up where they left off. This can be done by passing the `state` parameter."
   ]
  },
  {
   "cell_type": "code",
   "execution_count": null,
   "id": "f4dff5df",
   "metadata": {},
   "outputs": [],
   "source": [
    "from fasthtml.common import *\n",
    "from fasthtml.jupyter import *"
   ]
  },
  {
   "cell_type": "code",
   "execution_count": null,
   "id": "bc9ce02a",
   "metadata": {},
   "outputs": [],
   "source": [
    "redir_path = '/redirect'\n",
    "port = 8000\n",
    "code_stor = None"
   ]
  },
  {
   "cell_type": "code",
   "execution_count": null,
   "id": "b4dd67a9",
   "metadata": {},
   "outputs": [],
   "source": [
    "app,rt = jupy_app()\n",
    "server = JupyUvi(app, port=port)"
   ]
  },
  {
   "cell_type": "code",
   "execution_count": null,
   "id": "c0e2da0f",
   "metadata": {},
   "outputs": [],
   "source": [
    "#| export\n",
    "def redir_url(request, redir_path):\n",
    "    \"Get the redir url for the host in `request`\"\n",
    "    return f\"{request.url.scheme}://{request.url.netloc}{redir_path}\""
   ]
  },
  {
   "cell_type": "code",
   "execution_count": null,
   "id": "7b86cd0c",
   "metadata": {},
   "outputs": [],
   "source": [
    "@rt\n",
    "def index(request):\n",
    "    redir = redir_url(request, redir_path)\n",
    "    return A('login', href=cli.login_link(redir), target='_blank')"
   ]
  },
  {
   "cell_type": "code",
   "execution_count": null,
   "id": "479878a6",
   "metadata": {},
   "outputs": [],
   "source": [
    "#| export\n",
    "@patch\n",
    "def parse_response(self:_AppClient, code, redirect_uri):\n",
    "    \"Get the token from the oauth2 server response\"\n",
    "    payload = dict(code=code, redirect_uri=redirect_uri, client_id=self.client_id,\n",
    "                   client_secret=self.client_secret, grant_type='authorization_code')\n",
    "    r = httpx.post(self.token_url, json=payload)\n",
    "    r.raise_for_status()\n",
    "    self.parse_request_body_response(r.text)"
   ]
  },
  {
   "cell_type": "code",
   "execution_count": null,
   "id": "6967dbb0",
   "metadata": {},
   "outputs": [],
   "source": [
    "#| export\n",
    "@patch\n",
    "def get_info(self:_AppClient, token=None):\n",
    "    \"Get the info for authenticated user\"\n",
    "    if not token: token = self.token[\"access_token\"]\n",
    "    headers = {'Authorization': f'Bearer {token}'}\n",
    "    return httpx.get(self.info_url, headers=headers).json()"
   ]
  },
  {
   "cell_type": "code",
   "execution_count": null,
   "id": "03702349",
   "metadata": {},
   "outputs": [],
   "source": [
    "#| export\n",
    "@patch\n",
    "def retr_info(self:_AppClient, code, redirect_uri):\n",
    "    \"Combines `parse_response` and `get_info`\"\n",
    "    self.parse_response(code, redirect_uri)\n",
    "    return self.get_info()"
   ]
  },
  {
   "cell_type": "code",
   "execution_count": null,
   "id": "c705ea8d",
   "metadata": {},
   "outputs": [],
   "source": [
    "@rt(redir_path)\n",
    "def get(request, code:str):\n",
    "    redir = redir_url(request, redir_path)\n",
    "    info = cli.retr_info(code, redir)\n",
    "    return P(f'Login successful for {info[\"name\"]}!')"
   ]
  },
  {
   "cell_type": "code",
   "execution_count": null,
   "id": "ce6f838d",
   "metadata": {},
   "outputs": [
    {
     "data": {
      "text/html": [
       "<iframe src=\"http://localhost:8000\" style=\"width: 100%; height: auto; border: none;\" onload=\"{\n",
       "        let frame = this;\n",
       "        window.addEventListener('message', function(e) {\n",
       "            if (e.data.height) frame.style.height = (e.data.height+1) + 'px';\n",
       "        }, false);\n",
       "    }\" allow=\"accelerometer; autoplay; camera; clipboard-read; clipboard-write; display-capture; encrypted-media; fullscreen; gamepad; geolocation; gyroscope; hid; identity-credentials-get; idle-detection; magnetometer; microphone; midi; payment; picture-in-picture; publickey-credentials-get; screen-wake-lock; serial; usb; web-share; xr-spatial-tracking\"></iframe> "
      ],
      "text/plain": [
       "<IPython.core.display.HTML object>"
      ]
     },
     "execution_count": null,
     "metadata": {},
     "output_type": "execute_result"
    }
   ],
   "source": [
    "HTMX()"
   ]
  },
  {
   "cell_type": "code",
   "execution_count": null,
   "id": "8c2d2261",
   "metadata": {},
   "outputs": [],
   "source": [
    "server.stop()"
   ]
  },
  {
   "cell_type": "code",
   "execution_count": null,
   "id": "29f52061",
   "metadata": {},
   "outputs": [],
   "source": [
    "#| export\n",
    "@patch\n",
    "def retr_id(self:_AppClient, code, redirect_uri):\n",
    "    \"Call `retr_info` and then return id/subscriber value\"\n",
    "    return self.retr_info(code, redirect_uri)[self.id_key]"
   ]
  },
  {
   "cell_type": "markdown",
   "id": "d978e813",
   "metadata": {},
   "source": [
    "After logging in via the provider, the user will be redirected back to the supplied redirect URL. The request to this URL will contain a `code` parameter, which is used to get an access token and fetch the user's profile information. See [the explanation here](https://docs.fastht.ml/explains/oauth.html) for a worked example. You can either:\n",
    "\n",
    "- Use client.retr_info(code) to get all the profile information, or\n",
    "- Use client.retr_id(code) to get just the user's ID.\n",
    "\n",
    "After either of these calls, you can also access the access token (used to revoke access, for example) with `client.token[\"access_token\"]`."
   ]
  },
  {
   "cell_type": "code",
   "execution_count": null,
   "id": "dda68390",
   "metadata": {},
   "outputs": [],
   "source": [
    "#| export\n",
    "class OAuth:\n",
    "    def __init__(self, app, cli, skip=None, redir_path='/redirect', logout_path='/logout', login_path='/login'):\n",
    "        if not skip: skip = [redir_path,login_path]\n",
    "        store_attr()\n",
    "\n",
    "        def before(req, session):\n",
    "            auth = req.scope['auth'] = session.get('auth')\n",
    "            if not auth: return RedirectResponse(self.login_path, status_code=303)\n",
    "            info = AttrDictDefault(cli.get_info(auth))\n",
    "            if not self._chk_auth(info, session): return RedirectResponse(self.login_path, status_code=303)\n",
    "\n",
    "        app.before.append(Beforeware(before, skip=skip))\n",
    "\n",
    "        @app.get(redir_path)\n",
    "        def redirect(code:str, req, session, state:str=None):\n",
    "            if not code: return \"No code provided!\"\n",
    "            base_url = f\"{req.url.scheme}://{req.url.netloc}\"\n",
    "            print(base_url)\n",
    "            info = AttrDictDefault(cli.retr_info(code, base_url+redir_path))\n",
    "            if not self._chk_auth(info, session): return RedirectResponse(self.login_path, status_code=303)\n",
    "            session['auth'] = cli.token['access_token']\n",
    "            return self.login(info, state)\n",
    "\n",
    "        @app.get(logout_path)\n",
    "        def logout(session):\n",
    "            session.pop('auth', None)\n",
    "            return self.logout(session)\n",
    "\n",
    "    def redir_url(self, req): return redir_url(req, self.redir_path)\n",
    "    def login_link(self, req, scope=None, state=None): return self.cli.login_link(self.redir_url(req), scope=scope, state=state)\n",
    "\n",
    "    def login(self, info, state): raise NotImplementedError()\n",
    "    def logout(self, session): return RedirectResponse(self.login_path, status_code=303)\n",
    "    def chk_auth(self, info, ident, session): raise NotImplementedError()\n",
    "    def _chk_auth(self, info, session):\n",
    "        ident = info.get(self.cli.id_key)\n",
    "        return ident and self.chk_auth(info, ident, session)"
   ]
  },
  {
   "cell_type": "markdown",
   "id": "474e14b4",
   "metadata": {},
   "source": [
    "# Export -"
   ]
  },
  {
   "cell_type": "code",
   "execution_count": null,
   "id": "d211e8e2",
   "metadata": {},
   "outputs": [],
   "source": [
    "#|hide\n",
    "import nbdev; nbdev.nbdev_export()"
   ]
  },
  {
   "cell_type": "code",
   "execution_count": null,
   "id": "e0f7a90b",
   "metadata": {},
   "outputs": [],
   "source": []
  }
 ],
 "metadata": {
  "kernelspec": {
   "display_name": "python3",
   "language": "python",
   "name": "python3"
  }
 },
 "nbformat": 4,
 "nbformat_minor": 5
}
